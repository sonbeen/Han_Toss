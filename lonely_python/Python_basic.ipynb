{
 "cells": [
  {
   "cell_type": "markdown",
   "id": "1d7e5cf2-af69-4fe3-b214-91d7d8b4cf76",
   "metadata": {},
   "source": [
    "# 목차1 - 식별자\n",
    "- 식별자에 대해 배웁니다."
   ]
  },
  {
   "cell_type": "markdown",
   "id": "0ff35446-eb36-40d4-abe5-b4f8239ceefb",
   "metadata": {
    "jp-MarkdownHeadingCollapsed": true
   },
   "source": [
    "## 스네이크 케이스와 캐멀 케이스\n",
    "- 각 프로그래밍 언어마다 양식 존재\n",
    "- 클래스를 정의할 때 앞문자 대문자 -> Camel Case\n",
    "- 함수를 정의할 때 snake_case 방식 사용"
   ]
  },
  {
   "cell_type": "markdown",
   "id": "c5d1756e-46a5-49ab-b3b1-bb206e64f3ab",
   "metadata": {},
   "source": [
    "# 목차2 - 식별자 구분"
   ]
  },
  {
   "cell_type": "code",
   "execution_count": null,
   "id": "24eb3e61-8b99-483d-a69f-196b827db9f3",
   "metadata": {},
   "outputs": [],
   "source": [
    "print() #소문자\n",
    "list() #소문자\n",
    "class Aninmal # 대문자\n",
    "BeautifulSoup() #대문자"
   ]
  },
  {
   "cell_type": "markdown",
   "id": "910896da-1975-4146-a9fc-aee695564081",
   "metadata": {},
   "source": [
    "## 입력과 출력\n",
    "\n",
    "- input(): 입력\n",
    "- output(): 출력"
   ]
  },
  {
   "cell_type": "code",
   "execution_count": 1,
   "id": "ca71690d-4261-4cde-a56c-9c4c5f2fc3e7",
   "metadata": {},
   "outputs": [
    {
     "name": "stdout",
     "output_type": "stream",
     "text": [
      "아무거나 입력하세요! 넹\n"
     ]
    },
    {
     "name": "stdout",
     "output_type": "stream",
     "text": [
      "넹\n"
     ]
    }
   ],
   "source": [
    "var1 = input(\"아무거나 입력하세요!\")\n",
    "print(var1)"
   ]
  },
  {
   "cell_type": "markdown",
   "id": "9658443e-5d66-4506-bb84-7ac0ca1df5bc",
   "metadata": {},
   "source": [
    "- 숫자 출력할 때와 문자 출력할 때가 다름"
   ]
  },
  {
   "cell_type": "code",
   "execution_count": 2,
   "id": "4c17297c-1693-42f3-8957-77db402a9e56",
   "metadata": {},
   "outputs": [
    {
     "name": "stdout",
     "output_type": "stream",
     "text": [
      "#하나만 출력합니다\n",
      "\n",
      "10 20 30\n"
     ]
    }
   ],
   "source": [
    "print(\"#하나만 출력합니다\")\n",
    "print()\n",
    "print(10,20,30)"
   ]
  },
  {
   "cell_type": "markdown",
   "id": "e02d8c9e-822d-4459-80ae-4073010753df",
   "metadata": {},
   "source": [
    "# 목차3 - 문자열\n",
    "- 숫자\n",
    "- 문자\n",
    "- 논리(True/False)"
   ]
  },
  {
   "cell_type": "code",
   "execution_count": 4,
   "id": "b8120e96-7b82-4d29-b910-3a85b7b58409",
   "metadata": {},
   "outputs": [
    {
     "name": "stdout",
     "output_type": "stream",
     "text": [
      "<class 'str'>\n"
     ]
    }
   ],
   "source": [
    "print(type(\"안녕하세요\"))"
   ]
  },
  {
   "cell_type": "code",
   "execution_count": 104,
   "id": "ec596e4e-4599-44b7-9655-1b4b40668d32",
   "metadata": {},
   "outputs": [
    {
     "data": {
      "text/plain": [
       "\"import pandas as pd\\ndf = pd.DataFrame({\\n    'col1' : [1,2,3],\\n    'col2' : [1,2,3]\\n})\\n\\nprint(type(df))\""
      ]
     },
     "execution_count": 104,
     "metadata": {},
     "output_type": "execute_result"
    }
   ],
   "source": [
    "'''import pandas as pd\n",
    "df = pd.DataFrame({\n",
    "    'col1' : [1,2,3],\n",
    "    'col2' : [1,2,3]\n",
    "})\n",
    "\n",
    "print(type(df))'''   #오류 떠서 주석 씌움"
   ]
  },
  {
   "cell_type": "markdown",
   "id": "23e77038-d5a2-4ec1-83cd-2dcfb6834e8a",
   "metadata": {},
   "source": [
    "## 문자열 만들기\n",
    "- 큰 따옴표 방식 / 작은 따옴표 방식\n",
    "- 지금은 크게 구분 X"
   ]
  },
  {
   "cell_type": "code",
   "execution_count": 7,
   "id": "998d11c3-7582-4a3d-a886-567238dbe7dc",
   "metadata": {},
   "outputs": [
    {
     "name": "stdout",
     "output_type": "stream",
     "text": [
      "\"안녕하세요\"라고 말했습니다\n"
     ]
    }
   ],
   "source": [
    "#page 89\n",
    "print('\"안녕하세요\"라고 말했습니다')"
   ]
  },
  {
   "cell_type": "markdown",
   "id": "0eb7a3d3-ffdf-4d7f-b917-bd7c008d194d",
   "metadata": {},
   "source": [
    "## 이스케이프 문자\n",
    "- \\n: 줄바꿈\n",
    "- \\t: 탭\n",
    "- \\\\: 역슬래시"
   ]
  },
  {
   "cell_type": "code",
   "execution_count": 9,
   "id": "eb30b92d-a0c4-4626-962a-a19fb3ae90d9",
   "metadata": {},
   "outputs": [
    {
     "name": "stdout",
     "output_type": "stream",
     "text": [
      "안녕하세요\n",
      "안녕하세요\n"
     ]
    }
   ],
   "source": [
    "print('안녕하세요\\n안녕하세요')"
   ]
  },
  {
   "cell_type": "code",
   "execution_count": 10,
   "id": "a47c8354-b692-46a2-9066-1735e17418a9",
   "metadata": {},
   "outputs": [
    {
     "name": "stdout",
     "output_type": "stream",
     "text": [
      "안녕하세요\t안녕하세요\n"
     ]
    }
   ],
   "source": [
    "print('안녕하세요\\t안녕하세요')"
   ]
  },
  {
   "cell_type": "code",
   "execution_count": 11,
   "id": "5473bd37-cfb2-4b45-aa2b-4f5e1dfaa907",
   "metadata": {},
   "outputs": [
    {
     "name": "stdout",
     "output_type": "stream",
     "text": [
      "\\\n"
     ]
    }
   ],
   "source": [
    "print('\\\\')"
   ]
  },
  {
   "cell_type": "markdown",
   "id": "5048e4d3-85bb-4d9c-80e5-e961498ef097",
   "metadata": {},
   "source": [
    "## 문자열 연산자 (중요)\n",
    "- 사칙연산 중에서 덧셈과 곱셈 사용 가능"
   ]
  },
  {
   "cell_type": "code",
   "execution_count": 55,
   "id": "96b4e85b-cdc0-45b5-be61-a0e3e19cffd2",
   "metadata": {},
   "outputs": [
    {
     "name": "stdout",
     "output_type": "stream",
     "text": [
      "4\n",
      "3\n",
      "18\n",
      "0.5\n"
     ]
    }
   ],
   "source": [
    "print(2+2)\n",
    "print(5-2)\n",
    "print(6*3)\n",
    "print(3/6)"
   ]
  },
  {
   "cell_type": "code",
   "execution_count": 56,
   "id": "08aa6745-10be-4b4b-b8ee-a63b6477a1f9",
   "metadata": {},
   "outputs": [
    {
     "name": "stdout",
     "output_type": "stream",
     "text": [
      "안녕하세요\n"
     ]
    }
   ],
   "source": [
    "print(\"안녕\"+\"하세요\")"
   ]
  },
  {
   "cell_type": "code",
   "execution_count": 57,
   "id": "768bb841-92f3-4f87-96e1-5eefd8e25679",
   "metadata": {},
   "outputs": [
    {
     "name": "stdout",
     "output_type": "stream",
     "text": [
      "안녕하세요\n"
     ]
    }
   ],
   "source": [
    "var1 = \"안녕\"\n",
    "var2 = \"하세요\"\n",
    "\n",
    "result = var1 + var2\n",
    "print(result)"
   ]
  },
  {
   "cell_type": "code",
   "execution_count": 58,
   "id": "c0e9456c-da7a-4bbe-8737-d208733d70c0",
   "metadata": {},
   "outputs": [
    {
     "name": "stdout",
     "output_type": "stream",
     "text": [
      "안녕하세요안녕하세요\n"
     ]
    }
   ],
   "source": [
    "print(result*2)"
   ]
  },
  {
   "cell_type": "code",
   "execution_count": 59,
   "id": "dde5e0f5-7d34-416f-82a4-b5fd29e4155d",
   "metadata": {},
   "outputs": [
    {
     "name": "stdout",
     "output_type": "stream",
     "text": [
      "17\n"
     ]
    }
   ],
   "source": [
    "num1 = 1\n",
    "num2 = '7'\n",
    "\n",
    "print(str(num1)+num2)\n",
    "\n",
    "#숫자가 아닌 문자열은 int로 변환 불가 ex) num1=\"7\"은 변환 가능"
   ]
  },
  {
   "cell_type": "markdown",
   "id": "51ec10be-0309-4ef4-861b-9af7428421b4",
   "metadata": {},
   "source": [
    "## 문자 선택 연산자(인덱싱): []\n",
    "- 리스트, 튜플 등등 원리는 동일"
   ]
  },
  {
   "cell_type": "code",
   "execution_count": 60,
   "id": "a4e20f43-d869-4489-a09e-59297ac3e96d",
   "metadata": {},
   "outputs": [
    {
     "name": "stdout",
     "output_type": "stream",
     "text": [
      "안\n",
      "요\n",
      "세\n"
     ]
    }
   ],
   "source": [
    "var1 = \"안녕하세요\"\n",
    "print(var1[0])\n",
    "print(var1[-1])\n",
    "print(var1[-2])"
   ]
  },
  {
   "cell_type": "code",
   "execution_count": 61,
   "id": "ad67de97-2885-4242-b5d8-46e81601bf7c",
   "metadata": {},
   "outputs": [
    {
     "name": "stdout",
     "output_type": "stream",
     "text": [
      " \n",
      "P\n"
     ]
    }
   ],
   "source": [
    "var1 = \"Hello, Python!!!\"\n",
    "print(var1[6])\n",
    "print(var1[7])"
   ]
  },
  {
   "cell_type": "markdown",
   "id": "9b5aa292-fb78-4c41-9c95-a600785175e1",
   "metadata": {},
   "source": [
    "## 문자열 범위 선택(슬라이싱) [:]\n",
    "- 리스트, 튜플 등 자료형과 원리 동일"
   ]
  },
  {
   "cell_type": "code",
   "execution_count": 62,
   "id": "4c734596-7c45-4492-becc-1c95edd8ed12",
   "metadata": {},
   "outputs": [
    {
     "name": "stdout",
     "output_type": "stream",
     "text": [
      "ell\n"
     ]
    }
   ],
   "source": [
    "var1 = \"Hello, Python!!!\"\n",
    "print(var1[1:4])"
   ]
  },
  {
   "cell_type": "code",
   "execution_count": 63,
   "id": "726d80d8-00b7-415c-ab3a-3d172e4fa0c3",
   "metadata": {},
   "outputs": [
    {
     "name": "stdout",
     "output_type": "stream",
     "text": [
      "aaaaaaaa\n"
     ]
    }
   ],
   "source": [
    "var1 = \"abababababababab\"\n",
    "print(var1[::2])"
   ]
  },
  {
   "cell_type": "markdown",
   "id": "244fd142-7936-4e45-b10e-96b4b826dbbd",
   "metadata": {},
   "source": [
    "## 문자열과 숫자"
   ]
  },
  {
   "cell_type": "markdown",
   "id": "5722e970-4d7b-4b84-a682-1cd9a1745530",
   "metadata": {},
   "source": [
    "### 지수 표현"
   ]
  },
  {
   "cell_type": "code",
   "execution_count": 64,
   "id": "b4ea32dd-9491-4ff5-a6e9-c9ad6796a78e",
   "metadata": {},
   "outputs": [
    {
     "data": {
      "text/plain": [
       "52.273"
      ]
     },
     "execution_count": 64,
     "metadata": {},
     "output_type": "execute_result"
    }
   ],
   "source": [
    "0.52273e2  #e가 10의 자리수를 의미한다고 생각하면 됨"
   ]
  },
  {
   "cell_type": "code",
   "execution_count": 65,
   "id": "3daab1e0-b2c1-41c7-9d25-538b57991970",
   "metadata": {},
   "outputs": [
    {
     "data": {
      "text/plain": [
       "0.0052273"
      ]
     },
     "execution_count": 65,
     "metadata": {},
     "output_type": "execute_result"
    }
   ],
   "source": [
    "0.52273e-2  #10의 자리수 두개 빼용"
   ]
  },
  {
   "cell_type": "markdown",
   "id": "e7883008-2c6a-4fce-b2bd-fe3928dc278f",
   "metadata": {},
   "source": [
    "### 사칙연산"
   ]
  },
  {
   "cell_type": "code",
   "execution_count": 43,
   "id": "7a213634-7540-46d6-8992-0b0a91170950",
   "metadata": {},
   "outputs": [
    {
     "data": {
      "text/plain": [
       "2.0"
      ]
     },
     "execution_count": 43,
     "metadata": {},
     "output_type": "execute_result"
    }
   ],
   "source": [
    "6/3    #나누기는 float으로 반환"
   ]
  },
  {
   "cell_type": "code",
   "execution_count": 44,
   "id": "25ccde98-0e1d-4819-8d81-59f67ffd2ea5",
   "metadata": {},
   "outputs": [
    {
     "data": {
      "text/plain": [
       "9"
      ]
     },
     "execution_count": 44,
     "metadata": {},
     "output_type": "execute_result"
    }
   ],
   "source": [
    "6+3"
   ]
  },
  {
   "cell_type": "code",
   "execution_count": 47,
   "id": "07577363-435c-4e74-ad2a-9090a5db445d",
   "metadata": {},
   "outputs": [
    {
     "name": "stdout",
     "output_type": "stream",
     "text": [
      "110\n"
     ]
    }
   ],
   "source": [
    "num = 100\n",
    "num = num + 10\n",
    "print(num)"
   ]
  },
  {
   "cell_type": "code",
   "execution_count": 48,
   "id": "1b86404a-363f-4dff-9bc0-b78b56642bcb",
   "metadata": {},
   "outputs": [
    {
     "name": "stdout",
     "output_type": "stream",
     "text": [
      "110\n"
     ]
    }
   ],
   "source": [
    "num = 100\n",
    "num += 10 \n",
    "print(num)"
   ]
  },
  {
   "cell_type": "code",
   "execution_count": 49,
   "id": "ab611728-4b7a-4c2e-ba6c-c9d45e56830d",
   "metadata": {},
   "outputs": [
    {
     "name": "stdout",
     "output_type": "stream",
     "text": [
      "안녕i\n"
     ]
    }
   ],
   "source": [
    "sample_text = \"안녕\"\n",
    "sample_text += \"i\"\n",
    "print(sample_text)"
   ]
  },
  {
   "cell_type": "code",
   "execution_count": 51,
   "id": "eced9233-6a04-4a2a-9b9b-289ac36d4c9e",
   "metadata": {},
   "outputs": [
    {
     "name": "stdout",
     "output_type": "stream",
     "text": [
      "숫자를 입력하세요!! 1\n",
      "숫자를 입력하세요!! 2\n"
     ]
    },
    {
     "name": "stdout",
     "output_type": "stream",
     "text": [
      "3\n"
     ]
    }
   ],
   "source": [
    "num1 = int(input(\"숫자를 입력하세요!!\"))\n",
    "num2 = int(input(\"숫자를 입력하세요!!\"))\n",
    "\n",
    "result = num1 + num2\n",
    "print(result)"
   ]
  },
  {
   "cell_type": "code",
   "execution_count": 68,
   "id": "d9726d2c-b5ec-4fdb-8547-a9085e679edf",
   "metadata": {},
   "outputs": [
    {
     "name": "stdout",
     "output_type": "stream",
     "text": [
      "52\n",
      "52.273\n"
     ]
    }
   ],
   "source": [
    "num1 = \"52\"\n",
    "num2 = \"52.273\"\n",
    "\n",
    "print(int(num1))\n",
    "print(float(num2))"
   ]
  },
  {
   "cell_type": "code",
   "execution_count": 69,
   "id": "8e30ed4e-b37d-44d4-a24c-f712879421ba",
   "metadata": {},
   "outputs": [
    {
     "name": "stdout",
     "output_type": "stream",
     "text": [
      "52.0\n"
     ]
    }
   ],
   "source": [
    "print(float(num1))\n",
    "#print(int(num2)) -> float 문자열은 int로 바꿔서 출력 불가"
   ]
  },
  {
   "cell_type": "code",
   "execution_count": 70,
   "id": "d2106da7-0c32-496e-af0c-d4afc61b77e7",
   "metadata": {},
   "outputs": [
    {
     "name": "stdout",
     "output_type": "stream",
     "text": [
      "52\n"
     ]
    }
   ],
   "source": [
    "print(int(float(num2)))"
   ]
  },
  {
   "cell_type": "markdown",
   "id": "0bdc9ec9-ffab-4081-8208-173d235d5e7c",
   "metadata": {},
   "source": [
    "## f문자열 포매팅\n",
    "-  f'문자열{표현식}문자열'"
   ]
  },
  {
   "cell_type": "code",
   "execution_count": 71,
   "id": "1e85b728-cfb4-41cf-b62b-185507fa6d31",
   "metadata": {},
   "outputs": [
    {
     "name": "stdout",
     "output_type": "stream",
     "text": [
      "나의 이름은 홍길동입니다. 저는 30살입니다.\n"
     ]
    }
   ],
   "source": [
    "name = '홍길동'\n",
    "age = 30\n",
    "print(f\"나의 이름은 {name}입니다. 저는 {age}살입니다.\")"
   ]
  },
  {
   "cell_type": "code",
   "execution_count": 74,
   "id": "25c389b1-dff9-4e62-88f4-a559d33b0b51",
   "metadata": {},
   "outputs": [
    {
     "name": "stdout",
     "output_type": "stream",
     "text": [
      "10\n",
      "10\n"
     ]
    }
   ],
   "source": [
    "num1 = 10\n",
    "print(f'{num1}')  #간단한 걸로 쓰세용\n",
    "print(\"{}\".format(num1))"
   ]
  },
  {
   "cell_type": "markdown",
   "id": "bd609b1e-6aeb-46d6-8d43-d4c8ee7fcebb",
   "metadata": {},
   "source": [
    "## 문자열 내장 메소드"
   ]
  },
  {
   "cell_type": "code",
   "execution_count": 75,
   "id": "96cf045d-6bde-4284-ba6d-9ae12b849ebc",
   "metadata": {},
   "outputs": [
    {
     "name": "stdout",
     "output_type": "stream",
     "text": [
      "True\n"
     ]
    }
   ],
   "source": [
    "print(\"안녕\" in \"안녕하세요\")"
   ]
  },
  {
   "cell_type": "code",
   "execution_count": 76,
   "id": "dc6838e2-85ac-48c9-9ea2-023c7db004a8",
   "metadata": {},
   "outputs": [
    {
     "name": "stdout",
     "output_type": "stream",
     "text": [
      "False\n"
     ]
    }
   ],
   "source": [
    "print(\"안녕히\" in \"안녕하세요\")"
   ]
  },
  {
   "cell_type": "code",
   "execution_count": 79,
   "id": "4419f824-e1a3-44db-987e-52fed583d92f",
   "metadata": {},
   "outputs": [
    {
     "name": "stdout",
     "output_type": "stream",
     "text": [
      "['10', '20', '30', '40', '50']\n",
      "['10', '20', '30', '40', '50']\n"
     ]
    }
   ],
   "source": [
    "a = \"10 20 30 40 50\" #sep->구분자를 지정하는 매개변수\n",
    "print(a.split())\n",
    "print(a.split(sep=\" \"))"
   ]
  },
  {
   "cell_type": "markdown",
   "id": "c9154bf9-3b6a-4bc9-a74a-39e371e5b18f",
   "metadata": {},
   "source": [
    "# 목차4 - 자료형"
   ]
  },
  {
   "cell_type": "markdown",
   "id": "e01690e2-16e7-4523-ace8-ae101f5c3ce0",
   "metadata": {},
   "source": [
    "## 리스트"
   ]
  },
  {
   "cell_type": "code",
   "execution_count": 95,
   "id": "1a57c220-a1ce-4897-81e1-8459aa69bc8d",
   "metadata": {},
   "outputs": [],
   "source": [
    "a = list()\n",
    "b = []\n",
    "c = [1,2,3]\n",
    "d = [\"a\", \"b\", \"c\"]\n",
    "e = 1,2,\"a\", None, True\n",
    "f = [1,2,3,[1,2,\"Hello, Python!!!\", None, True]]    #Nested List, 중첩 리스트"
   ]
  },
  {
   "cell_type": "code",
   "execution_count": 96,
   "id": "e7fac2fc-b3c7-45d5-b1fc-b50ae118d3dd",
   "metadata": {},
   "outputs": [
    {
     "name": "stdout",
     "output_type": "stream",
     "text": [
      "[] [] [1, 2, 3] ['a', 'b', 'c'] (1, 2, 'a', None, True) [1, 2, 3, [1, 2, 'Hello, Python!!!', None, True]]\n"
     ]
    }
   ],
   "source": [
    "print(a,b,c,d,e,f)"
   ]
  },
  {
   "cell_type": "code",
   "execution_count": 97,
   "id": "1c32042e-c515-4dac-a96f-fc071b245802",
   "metadata": {},
   "outputs": [
    {
     "name": "stdout",
     "output_type": "stream",
     "text": [
      "[1, 2, 'Hello, Python!!!', None, True]\n"
     ]
    }
   ],
   "source": [
    "print(f[3])"
   ]
  },
  {
   "cell_type": "code",
   "execution_count": 98,
   "id": "65e6fada-5f9c-4adb-a774-aab868f2144d",
   "metadata": {},
   "outputs": [
    {
     "name": "stdout",
     "output_type": "stream",
     "text": [
      "Hello, Python!!!\n",
      "Python\n"
     ]
    }
   ],
   "source": [
    "f_a = f[3]\n",
    "text = f_a[2]\n",
    "print(text)\n",
    "print(text[7:13])"
   ]
  },
  {
   "cell_type": "code",
   "execution_count": 99,
   "id": "5640710c-6574-48db-9563-29761ccc314f",
   "metadata": {},
   "outputs": [],
   "source": [
    "g = [1, 2, 3, 4, 5, 6, [1, 2, \"Hi,,,, !! Python !!! Hello, \", None, True]]"
   ]
  },
  {
   "cell_type": "code",
   "execution_count": 102,
   "id": "515d8019-7ab5-43a8-9157-d3c587128016",
   "metadata": {},
   "outputs": [
    {
     "data": {
      "text/plain": [
       "'Python'"
      ]
     },
     "execution_count": 102,
     "metadata": {},
     "output_type": "execute_result"
    }
   ],
   "source": [
    "g[6][2][10:16]"
   ]
  },
  {
   "cell_type": "code",
   "execution_count": 1,
   "id": "dcf59d1f-253d-4892-a52a-7f1a4df7f5ac",
   "metadata": {},
   "outputs": [
    {
     "data": {
      "text/plain": [
       "[1, 2, 3, 4, 5, 6]"
      ]
     },
     "execution_count": 1,
     "metadata": {},
     "output_type": "execute_result"
    }
   ],
   "source": [
    "#p.196\n",
    "list_a = [1,2,3]\n",
    "list_b = [4,5,6]\n",
    "list_a + list_b"
   ]
  },
  {
   "cell_type": "code",
   "execution_count": 2,
   "id": "92a17627-f12a-453c-8c6b-9f6e741fc610",
   "metadata": {},
   "outputs": [
    {
     "data": {
      "text/plain": [
       "[1, 2, 3, 1, 2, 3, 1, 2, 3]"
      ]
     },
     "execution_count": 2,
     "metadata": {},
     "output_type": "execute_result"
    }
   ],
   "source": [
    "list_a *3"
   ]
  },
  {
   "cell_type": "code",
   "execution_count": 4,
   "id": "9603af8e-b2fb-478d-93c8-f7bfffabe2b8",
   "metadata": {},
   "outputs": [
    {
     "data": {
      "text/plain": [
       "[1, 2, 3, 1, 2, 3, 1, 2, 3, 1, 2, 3]"
      ]
     },
     "execution_count": 4,
     "metadata": {},
     "output_type": "execute_result"
    }
   ],
   "source": [
    "list_a * 4"
   ]
  },
  {
   "cell_type": "markdown",
   "id": "eb4acf8b-ff01-4890-b9bc-e102ed3eb4f3",
   "metadata": {},
   "source": [
    "- 숫자는 scalar 자료형\n",
    "- 문자는 sequence 자료형 (List도 sequence 자료형)"
   ]
  },
  {
   "cell_type": "code",
   "execution_count": 7,
   "id": "44218bea-7ae7-458a-be28-0845f8b1124f",
   "metadata": {},
   "outputs": [
    {
     "data": {
      "text/plain": [
       "[1, 2, 3, 4]"
      ]
     },
     "execution_count": 7,
     "metadata": {},
     "output_type": "execute_result"
    }
   ],
   "source": [
    "# list_a + 4   이건 안됨\n",
    "list_a + [4]"
   ]
  },
  {
   "cell_type": "code",
   "execution_count": 9,
   "id": "2d55e838-e38f-493c-bf10-59d48233b498",
   "metadata": {},
   "outputs": [
    {
     "data": {
      "text/plain": [
       "[273, 32, 410, True, [1, 2, 3]]"
      ]
     },
     "execution_count": 9,
     "metadata": {},
     "output_type": "execute_result"
    }
   ],
   "source": [
    "list_a = [273, 32, 'A', True, [1,2,3]]\n",
    "list_a[2] = 410\n",
    "list_a"
   ]
  },
  {
   "cell_type": "code",
   "execution_count": 10,
   "id": "9b9b210f-c198-4c62-bee5-6f9461ef8d4c",
   "metadata": {},
   "outputs": [
    {
     "data": {
      "text/plain": [
       "5"
      ]
     },
     "execution_count": 10,
     "metadata": {},
     "output_type": "execute_result"
    }
   ],
   "source": [
    "len(list_a)"
   ]
  },
  {
   "cell_type": "code",
   "execution_count": 14,
   "id": "384863a2-343e-482d-aa51-026c7124e723",
   "metadata": {},
   "outputs": [
    {
     "data": {
      "text/plain": [
       "[1, 2, 3, 4, 'A']"
      ]
     },
     "execution_count": 14,
     "metadata": {},
     "output_type": "execute_result"
    }
   ],
   "source": [
    "list_a = [1,2,3]\n",
    "list_a.append(4)\n",
    "list_a.append(\"A\")\n",
    "list_a"
   ]
  },
  {
   "cell_type": "code",
   "execution_count": 15,
   "id": "6ef34c70-cd61-4b0f-967e-b8d7ef09052f",
   "metadata": {},
   "outputs": [
    {
     "data": {
      "text/plain": [
       "[100, 1, 2, 3, 4, 'A']"
      ]
     },
     "execution_count": 15,
     "metadata": {},
     "output_type": "execute_result"
    }
   ],
   "source": [
    "list_a.insert(0,100)\n",
    "list_a"
   ]
  },
  {
   "cell_type": "markdown",
   "id": "a33b1d38-50bb-4a8e-8d3a-b078d965c576",
   "metadata": {},
   "source": [
    "### extend()\n",
    "- extend() 함수는 매개변수로 리스트를 입력\n",
    "- iterable 자료형만 사용 가능\n",
    "- iterable: 반복(iteration)할 수 있는 객체를 의미\n",
    "- 이터러블 자료형 종류 : 리스트(list), 튜플(tuple), 문자열(string), 딕셔너리(dictionary), 세트(set)\n",
    "- 스칼라(scalar) : 단일 값을 나타내는 자료형\n",
    "- 스칼라 자료형 종류 : 정수형(int), 부동 소수점형(float), 문자열(string, 단일 문자), 불린형(boolean)"
   ]
  },
  {
   "cell_type": "code",
   "execution_count": 19,
   "id": "f3b1925c-e755-4b55-87b7-fe682a88d40a",
   "metadata": {},
   "outputs": [
    {
     "data": {
      "text/plain": [
       "[1, 2, 3, 'a']"
      ]
     },
     "execution_count": 19,
     "metadata": {},
     "output_type": "execute_result"
    }
   ],
   "source": [
    "list_a = [1,2,3]\n",
    "list_a.extend(\"a\")\n",
    "list_a"
   ]
  },
  {
   "cell_type": "markdown",
   "id": "e71740ff-1ce0-4d30-bd50-502fd425f1e1",
   "metadata": {},
   "source": [
    "### 인덱스로 제거하기: del 키워드, pop() 키워드"
   ]
  },
  {
   "cell_type": "code",
   "execution_count": 20,
   "id": "3fd829b1-9200-4176-9bf4-0313321a2264",
   "metadata": {},
   "outputs": [
    {
     "data": {
      "text/plain": [
       "['b', 'c', 'd']"
      ]
     },
     "execution_count": 20,
     "metadata": {},
     "output_type": "execute_result"
    }
   ],
   "source": [
    "list_a = [\"a\",\"b\",\"c\",\"d\"]\n",
    "del list_a[0]     #del문\n",
    "list_a"
   ]
  },
  {
   "cell_type": "code",
   "execution_count": 21,
   "id": "91bc33ca-a75b-4ff2-a366-4e900d30aad7",
   "metadata": {},
   "outputs": [
    {
     "data": {
      "text/plain": [
       "['c', 'd']"
      ]
     },
     "execution_count": 21,
     "metadata": {},
     "output_type": "execute_result"
    }
   ],
   "source": [
    "list_a = [\"a\",\"b\",\"c\",\"d\"]\n",
    "del list_a[0:2]\n",
    "list_a"
   ]
  },
  {
   "cell_type": "markdown",
   "id": "35f1d1b3-7704-4f25-9f5a-846ebbad10d2",
   "metadata": {},
   "source": [
    "### 값으로 제거하기: remove()\n",
    "- 인덱스 번호가 아니라 실제 값 의미"
   ]
  },
  {
   "cell_type": "markdown",
   "id": "ed392ded-aba2-40de-a25a-591105cc28f1",
   "metadata": {},
   "source": [
    "### 리스트 정렬하기(sort)"
   ]
  },
  {
   "cell_type": "code",
   "execution_count": 22,
   "id": "f7a739fd-b091-4bea-87a3-7231f1611052",
   "metadata": {},
   "outputs": [
    {
     "data": {
      "text/plain": [
       "[32, 52, 103, 273]"
      ]
     },
     "execution_count": 22,
     "metadata": {},
     "output_type": "execute_result"
    }
   ],
   "source": [
    "list_a = [52,273,103,32]\n",
    "list_a.sort()\n",
    "list_a"
   ]
  },
  {
   "cell_type": "code",
   "execution_count": 23,
   "id": "02e9ee17-94bb-4158-bbfd-914f8cd9a55a",
   "metadata": {},
   "outputs": [
    {
     "data": {
      "text/plain": [
       "[273, 103, 52, 32]"
      ]
     },
     "execution_count": 23,
     "metadata": {},
     "output_type": "execute_result"
    }
   ],
   "source": [
    "list_a.sort(reverse=True)\n",
    "list_a"
   ]
  },
  {
   "cell_type": "markdown",
   "id": "35916181-a0c8-4ce3-abb9-cf56193cd01d",
   "metadata": {},
   "source": [
    "### 리스트 내부에 있는지 확인하기: in/not in 연산자\n",
    "- 문자열과 비슷"
   ]
  },
  {
   "cell_type": "code",
   "execution_count": 25,
   "id": "69cacfff-2936-4807-a0de-7c8feee52c1a",
   "metadata": {},
   "outputs": [
    {
     "data": {
      "text/plain": [
       "True"
      ]
     },
     "execution_count": 25,
     "metadata": {},
     "output_type": "execute_result"
    }
   ],
   "source": [
    "\"a\" in \"abc\""
   ]
  },
  {
   "cell_type": "code",
   "execution_count": 26,
   "id": "f6bb4358-71c6-484d-a910-d26e822d08b2",
   "metadata": {},
   "outputs": [
    {
     "data": {
      "text/plain": [
       "True"
      ]
     },
     "execution_count": 26,
     "metadata": {},
     "output_type": "execute_result"
    }
   ],
   "source": [
    "273 in [52, 273, 103, 32]"
   ]
  },
  {
   "cell_type": "markdown",
   "id": "fdc86242-a1bf-4fa5-beab-bfe82f8c3fae",
   "metadata": {},
   "source": [
    "### 리스트 컴프리헨션\n",
    "- pythonic code\n",
    "- 반복문을 한줄로 처리\n",
    "- 결과값은 리스트로 반환"
   ]
  },
  {
   "cell_type": "code",
   "execution_count": 92,
   "id": "36692550-9933-4e86-abb3-ae1d816e9ab8",
   "metadata": {},
   "outputs": [
    {
     "data": {
      "text/plain": [
       "[3, 6, 9, 12]"
      ]
     },
     "execution_count": 92,
     "metadata": {},
     "output_type": "execute_result"
    }
   ],
   "source": [
    "a = [1,2,3,4]\n",
    "result = []\n",
    "\n",
    "for num in a:\n",
    "    result.append(num*3)\n",
    "\n",
    "result"
   ]
  },
  {
   "cell_type": "code",
   "execution_count": 98,
   "id": "2f967a24-3f2d-4118-a15d-2d63fd41aa92",
   "metadata": {},
   "outputs": [
    {
     "name": "stdout",
     "output_type": "stream",
     "text": [
      "1 10 10\n",
      "2 20 40\n",
      "3 30 90\n",
      "4 40 160\n"
     ]
    }
   ],
   "source": [
    "num1 = [1,2,3,4]\n",
    "num2 = [10,20,30,40]\n",
    "result = []\n",
    "\n",
    "for i,j in zip(num1,num2):\n",
    "    print(i,j,i*j)\n",
    "    result.append(i*j)\n",
    "\n",
    "result = [i*j for i,j in zip(num1,num2)]\n",
    "result\n",
    "\n",
    "for i in result:\n",
    "    result.remove(i)"
   ]
  },
  {
   "cell_type": "markdown",
   "id": "90d0edd5-805d-441d-9e14-41c98cb1b396",
   "metadata": {},
   "source": [
    "## 튜플\n",
    "- 리스트와 비슷한 자료형\n",
    "- 인덱싱, 슬라이싱 모두 가능"
   ]
  },
  {
   "cell_type": "code",
   "execution_count": 27,
   "id": "e8477cfa-e655-4473-8bf7-ab4edad23fcb",
   "metadata": {},
   "outputs": [
    {
     "data": {
      "text/plain": [
       "(10, 20, 30, 40, 50, 60)"
      ]
     },
     "execution_count": 27,
     "metadata": {},
     "output_type": "execute_result"
    }
   ],
   "source": [
    "tuple_test = (10,20,30,40,50,60)\n",
    "tuple_test"
   ]
  },
  {
   "cell_type": "code",
   "execution_count": 29,
   "id": "2adfe0bb-a137-4a19-8340-8c105b51d2f4",
   "metadata": {},
   "outputs": [
    {
     "data": {
      "text/plain": [
       "(10, 20, 30, 40)"
      ]
     },
     "execution_count": 29,
     "metadata": {},
     "output_type": "execute_result"
    }
   ],
   "source": [
    "tuple_test[0]\n",
    "tuple_test[0:4]"
   ]
  },
  {
   "cell_type": "code",
   "execution_count": null,
   "id": "9615b9b2-82e6-4419-9ad2-ec202c46f9fe",
   "metadata": {},
   "outputs": [],
   "source": [
    "#튜플은 수정 불가"
   ]
  },
  {
   "cell_type": "markdown",
   "id": "80bcb6a1-e2af-4ebf-a6a3-346526c3fd27",
   "metadata": {},
   "source": [
    "## 딕셔너리\n",
    "- Web관련 자료형 중에서 JSON 형태와 유사\n",
    "- pandas 데이터프레임을 만들 때도 매우 자주 사용\n",
    "- 사전식 구성 연상\n",
    "      + 키워드 입력 -> 다양한 의미\n",
    "      + Love, 동사, 명사 등등등"
   ]
  },
  {
   "cell_type": "code",
   "execution_count": 30,
   "id": "156e9237-7e96-49c4-ba78-69ebf98e6e79",
   "metadata": {},
   "outputs": [
    {
     "data": {
      "text/plain": [
       "{'name': '어벤져스 엔드게임',\n",
       " 'type': '히어로 무비',\n",
       " 'director': ['안소니 루소', '조 루소'],\n",
       " 'year': 2019}"
      ]
     },
     "execution_count": 30,
     "metadata": {},
     "output_type": "execute_result"
    }
   ],
   "source": [
    "dict_a = {\n",
    "    \"name\" : \"어벤져스 엔드게임\",\n",
    "    \"type\" : \"히어로 무비\",\n",
    "    \"director\" : [\"안소니 루소\", \"조 루소\"],\n",
    "    \"year\" : 2019\n",
    "}\n",
    "\n",
    "dict_a"
   ]
  },
  {
   "cell_type": "code",
   "execution_count": 32,
   "id": "6f74be20-dd64-4e66-b574-5e0907085c34",
   "metadata": {},
   "outputs": [
    {
     "data": {
      "text/plain": [
       "'안소니'"
      ]
     },
     "execution_count": 32,
     "metadata": {},
     "output_type": "execute_result"
    }
   ],
   "source": [
    "dict_a['director'][0][0:3]"
   ]
  },
  {
   "cell_type": "code",
   "execution_count": 34,
   "id": "df1c37f1-e500-4af1-a91c-ca9906c0c8c5",
   "metadata": {},
   "outputs": [
    {
     "data": {
      "text/plain": [
       "{'name': '어벤져스 엔드게임',\n",
       " 'type': '히어로 무비',\n",
       " 'director': ['안소니 루소', '조 루소', 'a', 'a'],\n",
       " 'year': 2019}"
      ]
     },
     "execution_count": 34,
     "metadata": {},
     "output_type": "execute_result"
    }
   ],
   "source": [
    "dict_a['director'].append(\"a\")\n",
    "dict_a"
   ]
  },
  {
   "cell_type": "code",
   "execution_count": 38,
   "id": "135e3ddd-13e9-4371-9d87-3b9c439815c4",
   "metadata": {},
   "outputs": [
    {
     "data": {
      "text/plain": [
       "{'name': '7days 건조 맹고맹고'}"
      ]
     },
     "execution_count": 38,
     "metadata": {},
     "output_type": "execute_result"
    }
   ],
   "source": [
    "#key설정 시 무조건 따옴표 사용\n",
    "dict_key = {\n",
    "    'name': \"7days 건조 맹고맹고\"\n",
    "}\n",
    "dict_key"
   ]
  },
  {
   "cell_type": "code",
   "execution_count": 39,
   "id": "f5b84457-03a7-4981-bc6f-ff4c9e0e0471",
   "metadata": {},
   "outputs": [
    {
     "data": {
      "text/plain": [
       "{'name': '7days 건조 맹고맹고', 'price': '비싸비싸'}"
      ]
     },
     "execution_count": 39,
     "metadata": {},
     "output_type": "execute_result"
    }
   ],
   "source": [
    "dict_key['price'] = \"비싸비싸\"\n",
    "dict_key"
   ]
  },
  {
   "cell_type": "code",
   "execution_count": 40,
   "id": "414a0fdf-be57-4274-981b-7b68d9aa1c6c",
   "metadata": {},
   "outputs": [
    {
     "data": {
      "text/plain": [
       "{'name': '7days 건조 맹고맹고'}"
      ]
     },
     "execution_count": 40,
     "metadata": {},
     "output_type": "execute_result"
    }
   ],
   "source": [
    "del dict_key['price']\n",
    "dict_key"
   ]
  },
  {
   "cell_type": "code",
   "execution_count": 42,
   "id": "2f721af7-f457-459e-8b46-b41d7553403f",
   "metadata": {},
   "outputs": [
    {
     "name": "stdout",
     "output_type": "stream",
     "text": [
      "dict_keys(['name', 'price'])\n",
      "dict_values(['7days 건조 맹고맹고', '비싸비싸'])\n",
      "dict_items([('name', '7days 건조 맹고맹고'), ('price', '비싸비싸')])\n"
     ]
    }
   ],
   "source": [
    "dict_key['price'] = \"비싸비싸\"\n",
    "\n",
    "print(dict_key.keys())\n",
    "print(dict_key.values())\n",
    "print(dict_key.items())"
   ]
  },
  {
   "cell_type": "code",
   "execution_count": null,
   "id": "6f72d8d8-d593-4262-b314-591e14d9a0b1",
   "metadata": {},
   "outputs": [],
   "source": [
    "#dictionary에는 append 사용불가"
   ]
  },
  {
   "cell_type": "markdown",
   "id": "31f9611d-76dd-4ee6-aa0f-ef40a066c9ef",
   "metadata": {},
   "source": [
    "# 목차5 - 조건문과 반복문"
   ]
  },
  {
   "cell_type": "markdown",
   "id": "fd42e812-f06f-4f93-a8e5-16312d058b7f",
   "metadata": {},
   "source": [
    "## 조건문\n",
    "- 00 조건을 만족 => True\n",
    "    + 옷을 산다\n",
    "- 00 조건을 만족하지 못한다 => False\n",
    "    + 옷 ㄴㄴ\n",
    "- if-else"
   ]
  },
  {
   "cell_type": "code",
   "execution_count": 44,
   "id": "6a8ff72e-ff70-4a27-a68b-9e09845f158f",
   "metadata": {},
   "outputs": [
    {
     "name": "stdout",
     "output_type": "stream",
     "text": [
      "1보다 같거나 작음\n"
     ]
    }
   ],
   "source": [
    "a=1\n",
    "if a>1:\n",
    "    print(\"1보다 큼\")\n",
    "else:\n",
    "    print(\"1보다 같거나 작음\")"
   ]
  },
  {
   "cell_type": "code",
   "execution_count": 48,
   "id": "251d5e70-88cc-459b-ad09-7ad7b97ceab2",
   "metadata": {},
   "outputs": [
    {
     "name": "stdout",
     "output_type": "stream",
     "text": [
      "True입니다!\n"
     ]
    }
   ],
   "source": [
    "if True:\n",
    "    print(\"True입니다!\")\n",
    "\n",
    "if False:\n",
    "    print(\"True입니다!\")"
   ]
  },
  {
   "cell_type": "code",
   "execution_count": 50,
   "id": "c4ee95e0-5bcb-4daf-b147-0a54df9dce1f",
   "metadata": {},
   "outputs": [
    {
     "name": "stdout",
     "output_type": "stream",
     "text": [
      "정수를 입력해주세요! 0\n"
     ]
    },
    {
     "name": "stdout",
     "output_type": "stream",
     "text": [
      "0\n"
     ]
    }
   ],
   "source": [
    "num = input(\"정수를 입력해주세요!\")\n",
    "num = int(num)\n",
    "\n",
    "if num>0:\n",
    "    print(\"양수\")\n",
    "\n",
    "if num<0:\n",
    "    print(\"음수\")\n",
    "\n",
    "if num == 0:\n",
    "    print(0)"
   ]
  },
  {
   "cell_type": "code",
   "execution_count": 52,
   "id": "1caf22c4-decf-4556-8129-91b2b0ffacd5",
   "metadata": {},
   "outputs": [
    {
     "name": "stdout",
     "output_type": "stream",
     "text": [
      "얼마 있니? 60000\n"
     ]
    },
    {
     "name": "stdout",
     "output_type": "stream",
     "text": [
      "먹어용\n"
     ]
    }
   ],
   "source": [
    "money = int(input(\"얼마 있니?\"))\n",
    "if money<35000:\n",
    "    print(\"못 먹어용\")\n",
    "else:\n",
    "    print(\"먹어용\")"
   ]
  },
  {
   "cell_type": "markdown",
   "id": "2500ae03-7754-4f4a-97a0-75c1282d41af",
   "metadata": {},
   "source": [
    "## 날짜/시간 활용하기\n",
    "- datetime (파이썬 기본 라이브러리)\n",
    "- pandas to_datetime: https://ml-ops-hq.slack.com/archives/C079MU6L0HJ/p1719465693794189\n",
    "                    + https://ml-ops-hq.slack.com/archives/C079MU6L0HJ/p1719465707060339"
   ]
  },
  {
   "cell_type": "code",
   "execution_count": 53,
   "id": "712c509f-0c32-448d-abb1-1c6fb8bb3b1c",
   "metadata": {},
   "outputs": [
    {
     "data": {
      "text/plain": [
       "datetime.datetime(2024, 6, 27, 14, 39, 20, 587654)"
      ]
     },
     "execution_count": 53,
     "metadata": {},
     "output_type": "execute_result"
    }
   ],
   "source": [
    "import datetime\n",
    "\n",
    "now = datetime.datetime.now()\n",
    "now"
   ]
  },
  {
   "cell_type": "code",
   "execution_count": 55,
   "id": "f363e8a4-a8ea-4cc1-ad3e-b7c2c8a1f61e",
   "metadata": {},
   "outputs": [
    {
     "name": "stdout",
     "output_type": "stream",
     "text": [
      "6 월\n"
     ]
    }
   ],
   "source": [
    "print(now.month, \"월\")"
   ]
  },
  {
   "cell_type": "code",
   "execution_count": 57,
   "id": "7981419e-b598-461d-8feb-4a7fe425e017",
   "metadata": {},
   "outputs": [
    {
     "name": "stdout",
     "output_type": "stream",
     "text": [
      "2024년 6월 27일\n"
     ]
    }
   ],
   "source": [
    "print(f'{now.year}년 {now.month}월 {now.day}일')"
   ]
  },
  {
   "cell_type": "code",
   "execution_count": 61,
   "id": "a55297ab-b028-49a5-9164-1573d14609dd",
   "metadata": {},
   "outputs": [
    {
     "name": "stdout",
     "output_type": "stream",
     "text": [
      "<class 'int'> 6\n",
      "여름\n"
     ]
    }
   ],
   "source": [
    "#현재 날짜와 시간 구하기, 월 추출해서 현재 계절 확인\n",
    "\n",
    "now = datetime.datetime.now()\n",
    "month = now.month\n",
    "\n",
    "print(type(month), month)\n",
    "\n",
    "if 3<=month<=5:\n",
    "    print(\"봄\")\n",
    "elif 6<=month<=8:\n",
    "    print(\"여름\")\n",
    "elif 9<=month<=11:\n",
    "    print(\"가을\")\n",
    "else: \n",
    "    print(\"겨울\")"
   ]
  },
  {
   "cell_type": "markdown",
   "id": "1eeeec1f-e3ef-4b69-8396-a2d1ea10830f",
   "metadata": {},
   "source": [
    "## for 반복문\n",
    "- 몇 번을 반복해야 하는지 사용자가 지정"
   ]
  },
  {
   "cell_type": "code",
   "execution_count": 63,
   "id": "01d36f49-3b23-4c86-a982-9deb384abc3d",
   "metadata": {},
   "outputs": [
    {
     "name": "stdout",
     "output_type": "stream",
     "text": [
      "책 출력\n",
      "책 출력\n"
     ]
    }
   ],
   "source": [
    "for i in range(2):\n",
    "    print(\"책 출력\")"
   ]
  },
  {
   "cell_type": "code",
   "execution_count": 67,
   "id": "e7fd3f26-43a5-42d1-8d4b-6130b6656d88",
   "metadata": {},
   "outputs": [
    {
     "name": "stdout",
     "output_type": "stream",
     "text": [
      "273\n",
      "32\n",
      "103\n",
      "57\n",
      "52\n"
     ]
    }
   ],
   "source": [
    "array = [273, 32, 103, 57, 52]\n",
    "\n",
    "for element in array:\n",
    "    print(element)"
   ]
  },
  {
   "cell_type": "code",
   "execution_count": 71,
   "id": "5867d8ac-078c-43c5-9164-bb823ad1f477",
   "metadata": {},
   "outputs": [
    {
     "name": "stdout",
     "output_type": "stream",
     "text": [
      "True\n",
      "True\n",
      "True\n",
      "False\n",
      "False\n"
     ]
    }
   ],
   "source": [
    "from collections.abc import Sequence\n",
    "\n",
    "def is_sequence(obj):\n",
    "    return isinstance(obj, Sequence)\n",
    "\n",
    "print(is_sequence([1,2,3]))\n",
    "print(is_sequence((1,2,3)))\n",
    "print(is_sequence('hello'))\n",
    "print(is_sequence({1,2,3}))\n",
    "print(is_sequence(123))      "
   ]
  },
  {
   "cell_type": "code",
   "execution_count": 72,
   "id": "04aebe07-6c7e-4d2c-b7ce-7c89bfd38056",
   "metadata": {},
   "outputs": [
    {
     "name": "stdout",
     "output_type": "stream",
     "text": [
      "False\n",
      "7days 건조 맹고맹고\n",
      "비싸비싸\n"
     ]
    }
   ],
   "source": [
    "test = dict_key.values()\n",
    "print(is_sequence(test))\n",
    "\n",
    "for element in test:\n",
    "    print(element)"
   ]
  },
  {
   "cell_type": "code",
   "execution_count": 74,
   "id": "86261d44-9c16-4645-8efe-f93c94f2aad0",
   "metadata": {},
   "outputs": [
    {
     "name": "stdout",
     "output_type": "stream",
     "text": [
      "[1, 2, 3]\n",
      "1\n",
      "2\n",
      "3\n",
      "[4, 5, 6, 7]\n",
      "4\n",
      "5\n",
      "6\n",
      "7\n",
      "[8, 9]\n",
      "8\n",
      "9\n"
     ]
    }
   ],
   "source": [
    "list_of_list = [[1,2,3],[4,5,6,7],[8,9]]\n",
    "list_of_list\n",
    "\n",
    "for items in list_of_list:\n",
    "    print(items)\n",
    "    for item in items:\n",
    "        print(item)"
   ]
  },
  {
   "cell_type": "code",
   "execution_count": 86,
   "id": "f3c931e5-db20-4373-b0ea-7a280da508bc",
   "metadata": {},
   "outputs": [
    {
     "name": "stdout",
     "output_type": "stream",
     "text": [
      "2*1=2\n",
      "2*2=4\n",
      "2*3=6\n",
      "2*4=8\n",
      "2*5=10\n",
      "2*6=12\n",
      "2*7=14\n",
      "2*8=16\n",
      "2*9=18\n",
      "3*1=3\n",
      "3*2=6\n",
      "3*3=9\n",
      "3*4=12\n",
      "3*5=15\n",
      "3*6=18\n",
      "3*7=21\n",
      "3*8=24\n",
      "3*9=27\n",
      "4*1=4\n",
      "4*2=8\n",
      "4*3=12\n",
      "4*4=16\n",
      "4*5=20\n",
      "4*6=24\n",
      "4*7=28\n",
      "4*8=32\n",
      "4*9=36\n",
      "5*1=5\n",
      "5*2=10\n",
      "5*3=15\n",
      "5*4=20\n",
      "5*5=25\n",
      "5*6=30\n",
      "5*7=35\n",
      "5*8=40\n",
      "5*9=45\n",
      "6*1=6\n",
      "6*2=12\n",
      "6*3=18\n",
      "6*4=24\n",
      "6*5=30\n",
      "6*6=36\n",
      "6*7=42\n",
      "6*8=48\n",
      "6*9=54\n",
      "7*1=7\n",
      "7*2=14\n",
      "7*3=21\n",
      "7*4=28\n",
      "7*5=35\n",
      "7*6=42\n",
      "7*7=49\n",
      "7*8=56\n",
      "7*9=63\n",
      "8*1=8\n",
      "8*2=16\n",
      "8*3=24\n",
      "8*4=32\n",
      "8*5=40\n",
      "8*6=48\n",
      "8*7=56\n",
      "8*8=64\n",
      "8*9=72\n",
      "9*1=9\n",
      "9*2=18\n",
      "9*3=27\n",
      "9*4=36\n",
      "9*5=45\n",
      "9*6=54\n",
      "9*7=63\n",
      "9*8=72\n",
      "9*9=81\n"
     ]
    }
   ],
   "source": [
    "num1 = [2,3,4,5,6,7,8,9]\n",
    "num2 = [1,2,3,4,5,6,7,8,9]\n",
    "\n",
    "for i in num1:\n",
    "    for j in num2:\n",
    "        print(f'{i}*{j}={i*j}')"
   ]
  },
  {
   "cell_type": "markdown",
   "id": "16f6067f-7462-4f08-84d5-270ea68223c9",
   "metadata": {},
   "source": [
    "## while 반복문\n",
    "- 조건식이 참이면 계속 수행"
   ]
  },
  {
   "cell_type": "code",
   "execution_count": 2,
   "id": "04dba323-ca5f-4fc8-be23-794969db836b",
   "metadata": {},
   "outputs": [
    {
     "name": "stdout",
     "output_type": "stream",
     "text": [
      "0번째 반복입니다.\n",
      "1번째 반복입니다.\n",
      "2번째 반복입니다.\n",
      "3번째 반복입니다.\n",
      "4번째 반복입니다.\n",
      "5번째 반복입니다.\n",
      "6번째 반복입니다.\n",
      "7번째 반복입니다.\n",
      "8번째 반복입니다.\n",
      "9번째 반복입니다.\n"
     ]
    }
   ],
   "source": [
    "i = 0\n",
    "while i<10:\n",
    "    print('{}번째 반복입니다.'.format(i))\n",
    "    i+=1"
   ]
  },
  {
   "cell_type": "code",
   "execution_count": 3,
   "id": "532f93c2-dc04-4857-81e2-acae984e8a0b",
   "metadata": {},
   "outputs": [
    {
     "name": "stdout",
     "output_type": "stream",
     "text": [
      "[1, 1]\n"
     ]
    }
   ],
   "source": [
    "list_test = [1,2,1,2]\n",
    "value = 2\n",
    "\n",
    "while value in list_test:\n",
    "    list_test.remove(value)\n",
    "\n",
    "print(list_test)"
   ]
  },
  {
   "cell_type": "code",
   "execution_count": 7,
   "id": "fe98bb56-f26c-4fe3-a1cf-63635a36b608",
   "metadata": {},
   "outputs": [
    {
     "data": {
      "text/plain": [
       "30553564"
      ]
     },
     "execution_count": 7,
     "metadata": {},
     "output_type": "execute_result"
    }
   ],
   "source": [
    "import time\n",
    "\n",
    "num = 0\n",
    "target_tick = time.time() + 5\n",
    "while time.time() < target_tick:\n",
    "    num += 1\n",
    "\n",
    "num"
   ]
  },
  {
   "cell_type": "markdown",
   "id": "166d9c69-0db3-44e6-856e-46f3a6d86aed",
   "metadata": {},
   "source": [
    "### break와 continue"
   ]
  },
  {
   "cell_type": "code",
   "execution_count": 8,
   "id": "7bca24a4-1f33-4a56-939a-266b2f348877",
   "metadata": {},
   "outputs": [
    {
     "name": "stdout",
     "output_type": "stream",
     "text": [
      "5\n"
     ]
    }
   ],
   "source": [
    "num = [5,15, 6,20, 7, 25]\n",
    "\n",
    "for i in num:\n",
    "    print(i)\n",
    "    break"
   ]
  },
  {
   "cell_type": "code",
   "execution_count": 9,
   "id": "b237c7ac-8952-41c6-90d6-a5f9e9e2c919",
   "metadata": {},
   "outputs": [
    {
     "name": "stdout",
     "output_type": "stream",
     "text": [
      "5\n",
      "6\n",
      "7\n",
      "10\n"
     ]
    }
   ],
   "source": [
    "num = [5,6,7,10,15,25]\n",
    "\n",
    "for i in num:\n",
    "    if i>10:\n",
    "        break\n",
    "    print(i)"
   ]
  },
  {
   "cell_type": "code",
   "execution_count": 10,
   "id": "5a40df5e-aea6-47d1-bb23-b4d20ebee570",
   "metadata": {},
   "outputs": [
    {
     "name": "stdout",
     "output_type": "stream",
     "text": [
      "5\n",
      "6\n",
      "7\n",
      "10\n",
      "15\n"
     ]
    }
   ],
   "source": [
    "num = [5,6,7,10,15,25]\n",
    "\n",
    "for i in num:\n",
    "    print(i)\n",
    "    if i>10:\n",
    "        break\n",
    "    "
   ]
  },
  {
   "cell_type": "markdown",
   "id": "744e6047-1285-4d6f-acec-6b8b77fed621",
   "metadata": {},
   "source": [
    "# 목차6 - 함수\n",
    "- 공식문서 볼 때 필수 확인사항 2가지\n",
    "      + 매개변수 입력 방법 (or 자료형)\n",
    "      + 반환값, 반환되는 자료형의 형태 (int, str, array, list, DataFrame, etc)"
   ]
  },
  {
   "cell_type": "markdown",
   "id": "376da249-e278-403f-9d27-757bbc124ab6",
   "metadata": {},
   "source": [
    "## 함수 정의"
   ]
  },
  {
   "cell_type": "code",
   "execution_count": 16,
   "id": "519ae34d-2ba0-4532-99b1-47c88093a3fc",
   "metadata": {},
   "outputs": [
    {
     "name": "stdout",
     "output_type": "stream",
     "text": [
      "\n",
      "    두 수의 합을 반환합니다.\n",
      "    매개변수:\n",
      "    a (int, float): 첫 번째 숫자.\n",
      "    b (int, float): 두 번째 숫자.\n",
      "    반환값:\n",
      "    int, float: 두 숫자의 합.\n",
      "    예제:\n",
      "    >>> add(2, 3)\n",
      "    5\n",
      "    >>> add(5.5, 4.5)\n",
      "    10.0\n",
      "    \n"
     ]
    }
   ],
   "source": [
    "def add(a,b):\n",
    "    \"\"\"\n",
    "    두 수의 합을 반환합니다.\n",
    "    매개변수:\n",
    "    a (int, float): 첫 번째 숫자.\n",
    "    b (int, float): 두 번째 숫자.\n",
    "    반환값:\n",
    "    int, float: 두 숫자의 합.\n",
    "    예제:\n",
    "    >>> add(2, 3)\n",
    "    5\n",
    "    >>> add(5.5, 4.5)\n",
    "    10.0\n",
    "    \"\"\"\n",
    "    return a+b    #두 값 더하기\n",
    "    \n",
    "def sub(a,b):\n",
    "    return a-b    #두 값 빼기\n",
    "    \n",
    "def div(a,b):\n",
    "    return a/b    # 두 값 나누기\n",
    "    \n",
    "def mul(a,b):\n",
    "    return a*b    # 두 값 곱하기\n",
    "\n",
    "\n",
    "print(add.__doc__)"
   ]
  },
  {
   "cell_type": "markdown",
   "id": "eaf3be20-dfdd-4947-9ef1-e1d7ed5b6677",
   "metadata": {},
   "source": [
    "## 에러 유형 확인"
   ]
  },
  {
   "cell_type": "code",
   "execution_count": 17,
   "id": "d8843427-ab6e-4118-9409-738b9fb5dcd6",
   "metadata": {},
   "outputs": [
    {
     "name": "stdout",
     "output_type": "stream",
     "text": [
      "안녕하세요\n",
      "안녕하세요\n",
      "안녕하세요\n",
      "안녕하세요\n",
      "안녕하세요\n"
     ]
    }
   ],
   "source": [
    "def print_n_times(value, n):\n",
    "    for i in range(n):\n",
    "        print(value)\n",
    "\n",
    "print_n_times(\"안녕하세요\", 5)"
   ]
  },
  {
   "cell_type": "markdown",
   "id": "b6486d6b-367b-4d47-8ab5-57982f55b7c2",
   "metadata": {},
   "source": [
    "## 가변 매개변수\n",
    "- *를 매개변수에 추가"
   ]
  },
  {
   "cell_type": "code",
   "execution_count": 18,
   "id": "02972f7b-016e-4648-823b-d57db385ae36",
   "metadata": {},
   "outputs": [
    {
     "name": "stdout",
     "output_type": "stream",
     "text": [
      "a\n",
      "b\n",
      "c\n",
      "\n",
      "a\n",
      "b\n",
      "c\n",
      "\n",
      "a\n",
      "b\n",
      "c\n",
      "\n"
     ]
    }
   ],
   "source": [
    "def print_n_times(n, *values):\n",
    "    for i in range(n):\n",
    "        for value in values:\n",
    "            print(value)\n",
    "        print()\n",
    "\n",
    "print_n_times(3,\"a\",\"b\",\"c\")"
   ]
  },
  {
   "cell_type": "markdown",
   "id": "8a363510-8e87-45f4-b297-b80f35fe9183",
   "metadata": {},
   "source": [
    "## 키워드 매개변수 **kwargs\n",
    "- 매개변수 앞에 ** 두개 붙인 케이스"
   ]
  },
  {
   "cell_type": "code",
   "execution_count": 21,
   "id": "e50063d0-7813-4ba6-ad92-f6d81547f392",
   "metadata": {},
   "outputs": [],
   "source": [
    "def print_kwargs(**kwargs):\n",
    "\n",
    "    #이 메서드에는 return 값이 없음\n",
    "     print(kwargs)  #dictionary 형태로 출력"
   ]
  },
  {
   "cell_type": "code",
   "execution_count": 22,
   "id": "a18fb45c-5fbc-4f9b-a78b-ff2663d17799",
   "metadata": {},
   "outputs": [
    {
     "name": "stdout",
     "output_type": "stream",
     "text": [
      "{'a': 1}\n"
     ]
    }
   ],
   "source": [
    "print_kwargs(a=1)"
   ]
  },
  {
   "cell_type": "markdown",
   "id": "1e9c213a-43c1-4eb5-9493-de83abec93e7",
   "metadata": {},
   "source": [
    "# 목차7 - 클래스\n",
    "- 한 줄로 요약: 자동화 / 많은 사람들이 사용할 수 있도록 배포"
   ]
  },
  {
   "cell_type": "markdown",
   "id": "8e0166d4-e546-43f5-99cb-635406fb1ea0",
   "metadata": {},
   "source": [
    "## 함수와 클래스"
   ]
  },
  {
   "cell_type": "code",
   "execution_count": 25,
   "id": "6973e76a-975f-4fe4-9c3d-d3127b053fce",
   "metadata": {},
   "outputs": [
    {
     "name": "stdout",
     "output_type": "stream",
     "text": [
      "3\n",
      "7\n"
     ]
    }
   ],
   "source": [
    "result = 0\n",
    "\n",
    "def add(num):\n",
    "    global result   #전역변수\n",
    "    result += num\n",
    "    return result\n",
    "\n",
    "print(add(3))\n",
    "print(add(4))"
   ]
  },
  {
   "cell_type": "code",
   "execution_count": 27,
   "id": "0c12db1f-aea8-4847-ae33-4d10746fa81d",
   "metadata": {},
   "outputs": [
    {
     "name": "stdout",
     "output_type": "stream",
     "text": [
      "3\n",
      "6\n",
      "5\n",
      "9\n"
     ]
    }
   ],
   "source": [
    "class Calculator:\n",
    "    def __init__(self):\n",
    "        self.result = 0\n",
    "\n",
    "    def add(self, num):\n",
    "        self.result += num\n",
    "        return self.result\n",
    "\n",
    "cal1 = Calculator()\n",
    "cal2 = Calculator()\n",
    "\n",
    "print(cal1.add(3))\n",
    "print(cal1.add(3))\n",
    "print(cal2.add(5))\n",
    "print(cal2.add(4))"
   ]
  },
  {
   "cell_type": "code",
   "execution_count": 49,
   "id": "83815518-4bc2-4982-a2d5-5b3a25ef54ff",
   "metadata": {},
   "outputs": [],
   "source": [
    "class Student:\n",
    "    def __init__(self, name, Korean, Math, English, Science):\n",
    "        self.name = name\n",
    "        self.Korean = Korean\n",
    "        self.Math = Math\n",
    "        self.English = English\n",
    "        self.Science = Science\n",
    "\n",
    "    def get_sum(self):\n",
    "        return self.Korean + self.Math + self.English + self.Science\n",
    "\n",
    "    def get_avg(self):\n",
    "        return self.get_sum()/4\n",
    "        \n",
    "\n",
    "Students = [\n",
    "    Student(\"윤인성\", 87,98,88,95),\n",
    "    Student(\"Evan\", 50,20,15,40)\n",
    "]"
   ]
  },
  {
   "cell_type": "code",
   "execution_count": 50,
   "id": "525e1d8e-c9db-4106-a71a-a3226a16c6c4",
   "metadata": {},
   "outputs": [
    {
     "name": "stdout",
     "output_type": "stream",
     "text": [
      "368\n",
      "31.25\n"
     ]
    }
   ],
   "source": [
    "print(Students[0].get_sum())\n",
    "print(Students[1].get_avg())"
   ]
  },
  {
   "cell_type": "code",
   "execution_count": 52,
   "id": "485abc98-c47e-4b5d-9f9c-fcb788e75258",
   "metadata": {},
   "outputs": [
    {
     "name": "stdout",
     "output_type": "stream",
     "text": [
      "368 92.0\n",
      "125 31.25\n"
     ]
    }
   ],
   "source": [
    "for i in range(len(Students)):\n",
    "    print(Students[i].get_sum(), Students[i].get_avg())"
   ]
  },
  {
   "cell_type": "markdown",
   "id": "0c806a87-139c-4c83-9d2c-eaf346b6dd1b",
   "metadata": {},
   "source": [
    "## 인스턴스 확인\n",
    "- isinstance(인스턴스, 클래스)"
   ]
  },
  {
   "cell_type": "code",
   "execution_count": 53,
   "id": "85602fb8-19c1-4eac-8f1d-46cc3d8e76bd",
   "metadata": {},
   "outputs": [
    {
     "data": {
      "text/plain": [
       "True"
      ]
     },
     "execution_count": 53,
     "metadata": {},
     "output_type": "execute_result"
    }
   ],
   "source": [
    "class Student:\n",
    "    def __init__(self):\n",
    "        pass\n",
    "\n",
    "student = Student()\n",
    "isinstance(student, Student)"
   ]
  },
  {
   "cell_type": "markdown",
   "id": "fe65c710-c64c-475b-ac88-8f5dd73fffb4",
   "metadata": {},
   "source": [
    "## 클래스 상속"
   ]
  },
  {
   "cell_type": "code",
   "execution_count": 54,
   "id": "546710e4-5ba2-4f2c-9ed1-d1b20e656908",
   "metadata": {},
   "outputs": [],
   "source": [
    "class Human:\n",
    "    def __init__(self):\n",
    "        pass\n",
    "\n",
    "class Student(Human):\n",
    "    def __init__(self):\n",
    "        pass"
   ]
  },
  {
   "cell_type": "code",
   "execution_count": 57,
   "id": "59e0f8b3-a68c-49fc-8948-cb2196947d88",
   "metadata": {},
   "outputs": [],
   "source": [
    "class Parent:\n",
    "    pass\n",
    "\n",
    "class Child(Parent):\n",
    "    def __init__(self):\n",
    "        super().__init__()   #부모 클래스가 갖고 있는 거 다 쓰고 싶은 경우"
   ]
  },
  {
   "cell_type": "code",
   "execution_count": null,
   "id": "52bbe5af-b569-4e49-b3b1-20d00b7d4d15",
   "metadata": {},
   "outputs": [],
   "source": []
  },
  {
   "cell_type": "code",
   "execution_count": null,
   "id": "80224d61-0392-4bb7-9593-ee8a2bf3fd07",
   "metadata": {},
   "outputs": [],
   "source": []
  }
 ],
 "metadata": {
  "kernelspec": {
   "display_name": "Python 3 (ipykernel)",
   "language": "python",
   "name": "python3"
  },
  "language_info": {
   "codemirror_mode": {
    "name": "ipython",
    "version": 3
   },
   "file_extension": ".py",
   "mimetype": "text/x-python",
   "name": "python",
   "nbconvert_exporter": "python",
   "pygments_lexer": "ipython3",
   "version": "3.11.7"
  }
 },
 "nbformat": 4,
 "nbformat_minor": 5
}
